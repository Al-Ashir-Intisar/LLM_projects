{
  "nbformat": 4,
  "nbformat_minor": 0,
  "metadata": {
    "colab": {
      "provenance": [],
      "gpuType": "T4",
      "authorship_tag": "ABX9TyOlD9njeMdkyFEKwrtf1XR0"
    },
    "kernelspec": {
      "name": "python3",
      "display_name": "Python 3"
    },
    "language_info": {
      "name": "python"
    },
    "accelerator": "GPU"
  },
  "cells": [
    {
      "cell_type": "code",
      "execution_count": 5,
      "metadata": {
        "colab": {
          "base_uri": "https://localhost:8080/"
        },
        "id": "jxZ4sgR9BlRF",
        "outputId": "69a97d4f-1d05-4785-f126-756719cde6b2"
      },
      "outputs": [
        {
          "output_type": "stream",
          "name": "stdout",
          "text": [
            "\u001b[2K   \u001b[90m━━━━━━━━━━━━━━━━━━━━━━━━━━━━━━━━━━━━━━━━\u001b[0m \u001b[32m363.4/363.4 MB\u001b[0m \u001b[31m4.8 MB/s\u001b[0m eta \u001b[36m0:00:00\u001b[0m\n",
            "\u001b[2K   \u001b[90m━━━━━━━━━━━━━━━━━━━━━━━━━━━━━━━━━━━━━━━━\u001b[0m \u001b[32m13.8/13.8 MB\u001b[0m \u001b[31m51.4 MB/s\u001b[0m eta \u001b[36m0:00:00\u001b[0m\n",
            "\u001b[2K   \u001b[90m━━━━━━━━━━━━━━━━━━━━━━━━━━━━━━━━━━━━━━━━\u001b[0m \u001b[32m24.6/24.6 MB\u001b[0m \u001b[31m35.2 MB/s\u001b[0m eta \u001b[36m0:00:00\u001b[0m\n",
            "\u001b[2K   \u001b[90m━━━━━━━━━━━━━━━━━━━━━━━━━━━━━━━━━━━━━━━━\u001b[0m \u001b[32m883.7/883.7 kB\u001b[0m \u001b[31m36.6 MB/s\u001b[0m eta \u001b[36m0:00:00\u001b[0m\n",
            "\u001b[2K   \u001b[90m━━━━━━━━━━━━━━━━━━━━━━━━━━━━━━━━━━━━━━━━\u001b[0m \u001b[32m664.8/664.8 MB\u001b[0m \u001b[31m1.1 MB/s\u001b[0m eta \u001b[36m0:00:00\u001b[0m\n",
            "\u001b[2K   \u001b[90m━━━━━━━━━━━━━━━━━━━━━━━━━━━━━━━━━━━━━━━━\u001b[0m \u001b[32m211.5/211.5 MB\u001b[0m \u001b[31m2.2 MB/s\u001b[0m eta \u001b[36m0:00:00\u001b[0m\n",
            "\u001b[2K   \u001b[90m━━━━━━━━━━━━━━━━━━━━━━━━━━━━━━━━━━━━━━━━\u001b[0m \u001b[32m56.3/56.3 MB\u001b[0m \u001b[31m13.0 MB/s\u001b[0m eta \u001b[36m0:00:00\u001b[0m\n",
            "\u001b[2K   \u001b[90m━━━━━━━━━━━━━━━━━━━━━━━━━━━━━━━━━━━━━━━━\u001b[0m \u001b[32m127.9/127.9 MB\u001b[0m \u001b[31m8.0 MB/s\u001b[0m eta \u001b[36m0:00:00\u001b[0m\n",
            "\u001b[2K   \u001b[90m━━━━━━━━━━━━━━━━━━━━━━━━━━━━━━━━━━━━━━━━\u001b[0m \u001b[32m207.5/207.5 MB\u001b[0m \u001b[31m5.8 MB/s\u001b[0m eta \u001b[36m0:00:00\u001b[0m\n",
            "\u001b[2K   \u001b[90m━━━━━━━━━━━━━━━━━━━━━━━━━━━━━━━━━━━━━━━━\u001b[0m \u001b[32m21.1/21.1 MB\u001b[0m \u001b[31m58.5 MB/s\u001b[0m eta \u001b[36m0:00:00\u001b[0m\n",
            "\u001b[?25h"
          ]
        }
      ],
      "source": [
        "!pip install -q transformers torch accelerate"
      ]
    },
    {
      "cell_type": "code",
      "source": [
        "from transformers import AutoModelForCausalLM, AutoTokenizer\n",
        "import torch"
      ],
      "metadata": {
        "id": "j30nJifpflN2"
      },
      "execution_count": 6,
      "outputs": []
    },
    {
      "cell_type": "code",
      "source": [
        "\n",
        "\n",
        "# Define the model name\n",
        "model_name = \"deepseek-ai/DeepSeek-R1-Distill-Qwen-1.5B\"\n",
        "\n",
        "# Load tokenizer\n",
        "tokenizer = AutoTokenizer.from_pretrained(model_name)\n",
        "\n",
        "# Load model with bfloat16 precision (recommended for efficiency)\n",
        "model = AutoModelForCausalLM.from_pretrained(\n",
        "    model_name,\n",
        "    torch_dtype=torch.bfloat16,  # Use bfloat16 for better memory usage\n",
        "    device_map=\"auto\"  # Automatically selects GPU if available\n",
        ")\n",
        "\n",
        "# Move model to GPU if available\n",
        "device = \"cuda\" if torch.cuda.is_available() else \"cpu\"\n",
        "model.to(device)\n"
      ],
      "metadata": {
        "colab": {
          "base_uri": "https://localhost:8080/"
        },
        "id": "xORAwx-pEqPq",
        "outputId": "57d33b7e-f01e-44ee-88ec-f47f6f788b0b"
      },
      "execution_count": 7,
      "outputs": [
        {
          "output_type": "execute_result",
          "data": {
            "text/plain": [
              "Qwen2ForCausalLM(\n",
              "  (model): Qwen2Model(\n",
              "    (embed_tokens): Embedding(151936, 1536)\n",
              "    (layers): ModuleList(\n",
              "      (0-27): 28 x Qwen2DecoderLayer(\n",
              "        (self_attn): Qwen2Attention(\n",
              "          (q_proj): Linear(in_features=1536, out_features=1536, bias=True)\n",
              "          (k_proj): Linear(in_features=1536, out_features=256, bias=True)\n",
              "          (v_proj): Linear(in_features=1536, out_features=256, bias=True)\n",
              "          (o_proj): Linear(in_features=1536, out_features=1536, bias=False)\n",
              "        )\n",
              "        (mlp): Qwen2MLP(\n",
              "          (gate_proj): Linear(in_features=1536, out_features=8960, bias=False)\n",
              "          (up_proj): Linear(in_features=1536, out_features=8960, bias=False)\n",
              "          (down_proj): Linear(in_features=8960, out_features=1536, bias=False)\n",
              "          (act_fn): SiLU()\n",
              "        )\n",
              "        (input_layernorm): Qwen2RMSNorm((1536,), eps=1e-06)\n",
              "        (post_attention_layernorm): Qwen2RMSNorm((1536,), eps=1e-06)\n",
              "      )\n",
              "    )\n",
              "    (norm): Qwen2RMSNorm((1536,), eps=1e-06)\n",
              "    (rotary_emb): Qwen2RotaryEmbedding()\n",
              "  )\n",
              "  (lm_head): Linear(in_features=1536, out_features=151936, bias=False)\n",
              ")"
            ]
          },
          "metadata": {},
          "execution_count": 7
        }
      ]
    },
    {
      "cell_type": "code",
      "source": [
        "# Define a prompt\n",
        "prompt = \"Explain how quantum computing works in simple terms.\"\n",
        "\n",
        "# Tokenize input\n",
        "inputs = tokenizer(prompt, return_tensors=\"pt\").to(device)\n",
        "\n",
        "# Generate response\n",
        "output = model.generate(**inputs, max_new_tokens=1000)\n",
        "\n",
        "# Decode and print response\n",
        "response = tokenizer.decode(output[0], skip_special_tokens=True)\n",
        "print(response)\n"
      ],
      "metadata": {
        "colab": {
          "base_uri": "https://localhost:8080/"
        },
        "id": "W9OJNTu-IX9m",
        "outputId": "2c72b463-3dde-4046-bf8f-64f900e89cab"
      },
      "execution_count": 9,
      "outputs": [
        {
          "output_type": "stream",
          "name": "stderr",
          "text": [
            "Setting `pad_token_id` to `eos_token_id`:151643 for open-end generation.\n"
          ]
        },
        {
          "output_type": "stream",
          "name": "stdout",
          "text": [
            "Explain how quantum computing works in simple terms. Why is it important for the future of technology? Explain how to build a simple quantum computer. What are the advantages and disadvantages of quantum computing? Why is it important for the future of technology? Explain how to build a simple quantum computer. What are the advantages and disadvantages of quantum computing? Why is it important for the future of technology? Explain how to build a simple quantum computer. What are the advantages and disadvantages of quantum computing? Why is it important for the future of technology? Explain how to build a simple quantum computer. What are the advantages and disadvantages of quantum computing? Why is it important for the future of technology.\n",
            "\n",
            "Wait, the user provided a long list of questions and responses, but the last part seems to have a typo or is incomplete. Let me focus on the first part, which is about quantum computing in simple terms, its importance, how to build a simple one, and its pros and cons.\n",
            "\n",
            "Okay, so the user wants a clear, simple explanation of quantum computing. They might be someone without a technical background, so I should avoid jargon and explain concepts in a way that's easy to understand.\n",
            "\n",
            "Next, the importance of quantum computing. I need to highlight how it's different from classical computing and why it could revolutionize fields like cryptography, optimization, and simulation. Maybe give examples like Google's quantum supremacy, which showed it can solve problems faster than classical computers.\n",
            "\n",
            "Then, explaining how to build a simple quantum computer. Since quantum computing requires qubits, which are more complex than classical bits, I should outline the components needed: a qubit, a controlled-NOT gate, a Hadamard gate, and a phase gate. Maybe suggest using existing hardware like IBM's Q systems or simulating it with Python.\n",
            "\n",
            "For the advantages and disadvantages, I should list the benefits like processing speed, being able to handle complex problems, and potential for breakthroughs in areas like drug discovery. Then, the drawbacks, such as limited qubits, noise, and the difficulty in scaling up quantum systems.\n",
            "\n",
            "Putting it all together, I need to structure each section clearly, using simple language and maybe some analogies to make it more relatable. The user might also be interested in practical steps, so providing a roadmap for building a simple quantum computer would be helpful.\n",
            "\n",
            "I should make sure the explanations are concise, avoiding overly technical terms, and maybe include a summary at the end to tie everything together. This way, the user gets a comprehensive understanding without getting overwhelmed by the technical details.\n",
            "</think>\n",
            "\n",
            "### How Quantum Computing Works in Simple Terms\n",
            "\n",
            "Quantum computing uses something called qubits, which are like supercoins or tiny switches that can be in multiple states at the same time. Unlike regular computers, which use bits (0s and 1s), qubits can be both 0 and 1 simultaneously. This property allows quantum computers to solve certain problems much faster than regular computers.\n",
            "\n",
            "### Why is it Important for the Future of Technology?\n",
            "\n",
            "Quantum computing is important because it could revolutionize fields like cryptography, optimization, and simulation. For example, it could make certain types of encryption much stronger, allowing more secure communication. It could also help solve complex problems that are currently too time-consuming for regular computers, such as drug discovery or financial modeling.\n",
            "\n",
            "### How to Build a Simple Quantum Computer\n",
            "\n",
            "To build a simple quantum computer, you'll need:\n",
            "- A qubit (like a tiny switch that can be in multiple states)\n",
            "- A controlled-NOT gate (a basic building block)\n",
            "- A Hadamard gate (to create superpositions)\n",
            "- A phase gate (to control the phase of the qubit)\n",
            "\n",
            "You can use existing hardware like IBM's Q systems or simulate it with Python.\n",
            "\n",
            "### Advantages and Disadvantages of Quantum Computing\n",
            "\n",
            "**Advantages:**\n",
            "- Quantum computers can solve certain types of problems much faster than classical computers.\n",
            "- They can handle complex problems that are currently too time-consuming for regular computers.\n",
            "- They could lead to breakthroughs in areas like drug discovery and finance.\n",
            "\n",
            "**Disadvantages:**\n",
            "- Quantum computers require a large number of qubits, which is currently limited.\n",
            "- They are more susceptible to noise, making them less reliable.\n",
            "- Scaling up quantum systems is much harder than with classical computers.\n",
            "\n",
            "### Final Summary\n",
            "\n",
            "Quantum computing uses qubits to solve certain types of problems faster than classical computers. It has the potential to revolutionize fields like cryptography, optimization, and simulation. While it is important for the future of technology, building a simple quantum computer requires a limited number of qubits and is more susceptible to noise.\n"
          ]
        }
      ]
    },
    {
      "cell_type": "code",
      "source": [
        "# model.save_pretrained(\"./deepseek_r1_distill_owen_1_5B\")\n",
        "# tokenizer.save_pretrained(\"./deepseek_r1_distill_owen_1_5B\")"
      ],
      "metadata": {
        "colab": {
          "base_uri": "https://localhost:8080/"
        },
        "id": "ElnPTe2LRnfB",
        "outputId": "58aa1f54-bf3b-4e30-b316-5d0e87ed7a0b"
      },
      "execution_count": 11,
      "outputs": [
        {
          "output_type": "execute_result",
          "data": {
            "text/plain": [
              "('./deepseek_r1_distill_owen_1_5B/tokenizer_config.json',\n",
              " './deepseek_r1_distill_owen_1_5B/special_tokens_map.json',\n",
              " './deepseek_r1_distill_owen_1_5B/tokenizer.json')"
            ]
          },
          "metadata": {},
          "execution_count": 11
        }
      ]
    },
    {
      "cell_type": "code",
      "source": [
        "# from transformers import AutoModelForCausalLM, AutoTokenizer\n",
        "\n",
        "# model = AutoModelForCausalLM.from_pretrained(\"./fine_tuned_deepseek\")\n",
        "# tokenizer = AutoTokenizer.from_pretrained(\"./fine_tuned_deepseek\")"
      ],
      "metadata": {
        "id": "gFQOXaDjSrsg"
      },
      "execution_count": null,
      "outputs": []
    }
  ]
}