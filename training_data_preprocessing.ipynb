{
  "nbformat": 4,
  "nbformat_minor": 0,
  "metadata": {
    "colab": {
      "provenance": [],
      "gpuType": "T4",
      "authorship_tag": "ABX9TyOmBWTPeP13wtiY41p8WRxY"
    },
    "kernelspec": {
      "name": "python3",
      "display_name": "Python 3"
    },
    "language_info": {
      "name": "python"
    },
    "accelerator": "GPU"
  },
  "cells": [
    {
      "cell_type": "code",
      "source": [
        "!pip install openai-whisper ffmpeg torch\n"
      ],
      "metadata": {
        "id": "EkEoeqUeQd-U",
        "colab": {
          "base_uri": "https://localhost:8080/"
        },
        "outputId": "eff1a404-63d5-406d-d2bc-1fbf63cfc3f5"
      },
      "execution_count": 29,
      "outputs": [
        {
          "output_type": "stream",
          "name": "stdout",
          "text": [
            "Requirement already satisfied: openai-whisper in /usr/local/lib/python3.11/dist-packages (20240930)\n",
            "Requirement already satisfied: ffmpeg in /usr/local/lib/python3.11/dist-packages (1.4)\n",
            "Requirement already satisfied: torch in /usr/local/lib/python3.11/dist-packages (2.5.1+cu124)\n",
            "Requirement already satisfied: numba in /usr/local/lib/python3.11/dist-packages (from openai-whisper) (0.61.0)\n",
            "Requirement already satisfied: numpy in /usr/local/lib/python3.11/dist-packages (from openai-whisper) (1.26.4)\n",
            "Requirement already satisfied: tqdm in /usr/local/lib/python3.11/dist-packages (from openai-whisper) (4.67.1)\n",
            "Requirement already satisfied: more-itertools in /usr/local/lib/python3.11/dist-packages (from openai-whisper) (10.6.0)\n",
            "Requirement already satisfied: tiktoken in /usr/local/lib/python3.11/dist-packages (from openai-whisper) (0.8.0)\n",
            "Requirement already satisfied: triton>=2.0.0 in /usr/local/lib/python3.11/dist-packages (from openai-whisper) (3.1.0)\n",
            "Requirement already satisfied: filelock in /usr/local/lib/python3.11/dist-packages (from torch) (3.17.0)\n",
            "Requirement already satisfied: typing-extensions>=4.8.0 in /usr/local/lib/python3.11/dist-packages (from torch) (4.12.2)\n",
            "Requirement already satisfied: networkx in /usr/local/lib/python3.11/dist-packages (from torch) (3.4.2)\n",
            "Requirement already satisfied: jinja2 in /usr/local/lib/python3.11/dist-packages (from torch) (3.1.5)\n",
            "Requirement already satisfied: fsspec in /usr/local/lib/python3.11/dist-packages (from torch) (2024.9.0)\n",
            "Requirement already satisfied: nvidia-cuda-nvrtc-cu12==12.4.127 in /usr/local/lib/python3.11/dist-packages (from torch) (12.4.127)\n",
            "Requirement already satisfied: nvidia-cuda-runtime-cu12==12.4.127 in /usr/local/lib/python3.11/dist-packages (from torch) (12.4.127)\n",
            "Requirement already satisfied: nvidia-cuda-cupti-cu12==12.4.127 in /usr/local/lib/python3.11/dist-packages (from torch) (12.4.127)\n",
            "Requirement already satisfied: nvidia-cudnn-cu12==9.1.0.70 in /usr/local/lib/python3.11/dist-packages (from torch) (9.1.0.70)\n",
            "Requirement already satisfied: nvidia-cublas-cu12==12.4.5.8 in /usr/local/lib/python3.11/dist-packages (from torch) (12.4.5.8)\n",
            "Requirement already satisfied: nvidia-cufft-cu12==11.2.1.3 in /usr/local/lib/python3.11/dist-packages (from torch) (11.2.1.3)\n",
            "Requirement already satisfied: nvidia-curand-cu12==10.3.5.147 in /usr/local/lib/python3.11/dist-packages (from torch) (10.3.5.147)\n",
            "Requirement already satisfied: nvidia-cusolver-cu12==11.6.1.9 in /usr/local/lib/python3.11/dist-packages (from torch) (11.6.1.9)\n",
            "Requirement already satisfied: nvidia-cusparse-cu12==12.3.1.170 in /usr/local/lib/python3.11/dist-packages (from torch) (12.3.1.170)\n",
            "Requirement already satisfied: nvidia-nccl-cu12==2.21.5 in /usr/local/lib/python3.11/dist-packages (from torch) (2.21.5)\n",
            "Requirement already satisfied: nvidia-nvtx-cu12==12.4.127 in /usr/local/lib/python3.11/dist-packages (from torch) (12.4.127)\n",
            "Requirement already satisfied: nvidia-nvjitlink-cu12==12.4.127 in /usr/local/lib/python3.11/dist-packages (from torch) (12.4.127)\n",
            "Requirement already satisfied: sympy==1.13.1 in /usr/local/lib/python3.11/dist-packages (from torch) (1.13.1)\n",
            "Requirement already satisfied: mpmath<1.4,>=1.1.0 in /usr/local/lib/python3.11/dist-packages (from sympy==1.13.1->torch) (1.3.0)\n",
            "Requirement already satisfied: MarkupSafe>=2.0 in /usr/local/lib/python3.11/dist-packages (from jinja2->torch) (3.0.2)\n",
            "Requirement already satisfied: llvmlite<0.45,>=0.44.0dev0 in /usr/local/lib/python3.11/dist-packages (from numba->openai-whisper) (0.44.0)\n",
            "Requirement already satisfied: regex>=2022.1.18 in /usr/local/lib/python3.11/dist-packages (from tiktoken->openai-whisper) (2024.11.6)\n",
            "Requirement already satisfied: requests>=2.26.0 in /usr/local/lib/python3.11/dist-packages (from tiktoken->openai-whisper) (2.32.3)\n",
            "Requirement already satisfied: charset-normalizer<4,>=2 in /usr/local/lib/python3.11/dist-packages (from requests>=2.26.0->tiktoken->openai-whisper) (3.4.1)\n",
            "Requirement already satisfied: idna<4,>=2.5 in /usr/local/lib/python3.11/dist-packages (from requests>=2.26.0->tiktoken->openai-whisper) (3.10)\n",
            "Requirement already satisfied: urllib3<3,>=1.21.1 in /usr/local/lib/python3.11/dist-packages (from requests>=2.26.0->tiktoken->openai-whisper) (2.3.0)\n",
            "Requirement already satisfied: certifi>=2017.4.17 in /usr/local/lib/python3.11/dist-packages (from requests>=2.26.0->tiktoken->openai-whisper) (2025.1.31)\n"
          ]
        }
      ]
    },
    {
      "cell_type": "code",
      "source": [
        "!apt-get install ffmpeg\n"
      ],
      "metadata": {
        "colab": {
          "base_uri": "https://localhost:8080/"
        },
        "id": "2-sojPHpmTAZ",
        "outputId": "23dc7656-d1c4-4501-9640-1f067267e95d"
      },
      "execution_count": 30,
      "outputs": [
        {
          "output_type": "stream",
          "name": "stdout",
          "text": [
            "Reading package lists... Done\n",
            "Building dependency tree... Done\n",
            "Reading state information... Done\n",
            "ffmpeg is already the newest version (7:4.4.2-0ubuntu0.22.04.1).\n",
            "0 upgraded, 0 newly installed, 0 to remove and 19 not upgraded.\n"
          ]
        }
      ]
    },
    {
      "cell_type": "code",
      "source": [
        "from google.colab import drive\n",
        "drive.mount('/content/drive')"
      ],
      "metadata": {
        "colab": {
          "base_uri": "https://localhost:8080/"
        },
        "id": "NMXdXcCZgxyY",
        "outputId": "25029457-3687-4810-aece-5d61cd3c07c4"
      },
      "execution_count": 31,
      "outputs": [
        {
          "output_type": "stream",
          "name": "stdout",
          "text": [
            "Drive already mounted at /content/drive; to attempt to forcibly remount, call drive.mount(\"/content/drive\", force_remount=True).\n"
          ]
        }
      ]
    },
    {
      "cell_type": "code",
      "source": [
        "import os\n",
        "\n",
        "# Ask user for input file paths\n",
        "m4a_path = input(\"Enter the full path to your .m4a file: \")\n",
        "wav_path = input(\"Enter the full path where the converted .wav file should be saved: \")\n",
        "txt_path = input(\"Enter the full path where the transcription should be saved (e.g., transcription.txt): \")\n",
        "\n",
        "# Set as environment variables\n",
        "os.environ[\"AUDIO_INPUT\"] = m4a_path\n",
        "os.environ[\"AUDIO_OUTPUT\"] = wav_path\n",
        "os.environ[\"TEXT_OUTPUT\"] = txt_path\n"
      ],
      "metadata": {
        "colab": {
          "base_uri": "https://localhost:8080/"
        },
        "id": "ic6eWKRxprjh",
        "outputId": "0fcd2222-619a-4021-a6b9-fe8c4c245adb"
      },
      "execution_count": 32,
      "outputs": [
        {
          "name": "stdout",
          "output_type": "stream",
          "text": [
            "Enter the full path to your .m4a file: /content/drive/MyDrive/Academic/Coursera Courses/Clone Me [Training LLM to be like Me]/speech1.m4a\n",
            "Enter the full path where the converted .wav file should be saved: /content/drive/MyDrive/Academic/Coursera Courses/Clone Me [Training LLM to be like Me]/speech1.wav\n",
            "Enter the full path where the transcription should be saved (e.g., transcription.txt): /content/drive/MyDrive/Academic/Coursera Courses/Clone Me [Training LLM to be like Me]/speech1.txt\n"
          ]
        }
      ]
    },
    {
      "cell_type": "code",
      "source": [
        "# Get file paths from environment variables\n",
        "audio_path = os.getenv(\"AUDIO_INPUT\")  # .m4a file\n",
        "formatted_audio_path = os.getenv(\"AUDIO_OUTPUT\")  # Converted .wav file\n",
        "text_file_path = os.getenv(\"TEXT_OUTPUT\")  # Transcription file\n",
        "\n",
        "print(f\"Processing file: {audio_path}\")\n",
        "print(f\"Saving converted .wav file to: {formatted_audio_path}\")\n",
        "print(f\"Transcription will be saved to: {text_file_path}\")\n"
      ],
      "metadata": {
        "colab": {
          "base_uri": "https://localhost:8080/"
        },
        "id": "O_VOoaeBqajc",
        "outputId": "d7057593-0185-41ba-f44e-ea4375bcb4b9"
      },
      "execution_count": 33,
      "outputs": [
        {
          "output_type": "stream",
          "name": "stdout",
          "text": [
            "Processing file: /content/drive/MyDrive/Academic/Coursera Courses/Clone Me [Training LLM to be like Me]/speech1.m4a\n",
            "Saving converted .wav file to: /content/drive/MyDrive/Academic/Coursera Courses/Clone Me [Training LLM to be like Me]/speech1.wav\n",
            "Transcription will be saved to: /content/drive/MyDrive/Academic/Coursera Courses/Clone Me [Training LLM to be like Me]/speech1.txt\n"
          ]
        }
      ]
    },
    {
      "cell_type": "code",
      "source": [
        "import subprocess\n",
        "\n",
        "# Convert using ffmpeg\n",
        "subprocess.run([\"ffmpeg\", \"-i\", audio_path, \"-ar\", \"16000\", \"-ac\", \"1\", \"-c:a\", \"pcm_s16le\", formatted_audio_path])\n"
      ],
      "metadata": {
        "colab": {
          "base_uri": "https://localhost:8080/"
        },
        "id": "ERw3gVJAmd0_",
        "outputId": "609f1917-03ca-4c44-d195-562e30bdfc88"
      },
      "execution_count": 34,
      "outputs": [
        {
          "output_type": "execute_result",
          "data": {
            "text/plain": [
              "CompletedProcess(args=['ffmpeg', '-i', '/content/drive/MyDrive/Academic/Coursera Courses/Clone Me [Training LLM to be like Me]/speech1.m4a', '-ar', '16000', '-ac', '1', '-c:a', 'pcm_s16le', '/content/drive/MyDrive/Academic/Coursera Courses/Clone Me [Training LLM to be like Me]/speech1.wav'], returncode=1)"
            ]
          },
          "metadata": {},
          "execution_count": 34
        }
      ]
    },
    {
      "cell_type": "code",
      "source": [
        "import whisper\n",
        "\n",
        "# Load the Whisper model\n",
        "model = whisper.load_model(\"base\")  # Use \"small\", \"medium\", or \"large\" for better accuracy\n",
        "\n",
        "# Transcribe audio\n",
        "result = model.transcribe(formatted_audio_path)\n",
        "\n",
        "# Store transcription text\n",
        "transcribed_text = result[\"text\"]\n"
      ],
      "metadata": {
        "id": "vrG3UNkgQ3VH",
        "colab": {
          "base_uri": "https://localhost:8080/"
        },
        "outputId": "fe6d2a5f-bc5b-499d-f775-38878e256d29"
      },
      "execution_count": 35,
      "outputs": [
        {
          "output_type": "stream",
          "name": "stderr",
          "text": [
            "/usr/local/lib/python3.11/dist-packages/whisper/__init__.py:150: FutureWarning: You are using `torch.load` with `weights_only=False` (the current default value), which uses the default pickle module implicitly. It is possible to construct malicious pickle data which will execute arbitrary code during unpickling (See https://github.com/pytorch/pytorch/blob/main/SECURITY.md#untrusted-models for more details). In a future release, the default value for `weights_only` will be flipped to `True`. This limits the functions that could be executed during unpickling. Arbitrary objects will no longer be allowed to be loaded via this mode unless they are explicitly allowlisted by the user via `torch.serialization.add_safe_globals`. We recommend you start setting `weights_only=True` for any use case where you don't have full control of the loaded file. Please open an issue on GitHub for any issues related to this experimental feature.\n",
            "  checkpoint = torch.load(fp, map_location=device)\n"
          ]
        }
      ]
    },
    {
      "cell_type": "code",
      "source": [
        "# Write transcription to file\n",
        "with open(text_file_path, \"w\") as file:\n",
        "    file.write(transcribed_text)\n",
        "\n",
        "print(f\"Transcription saved to: {text_file_path}\")\n"
      ],
      "metadata": {
        "colab": {
          "base_uri": "https://localhost:8080/"
        },
        "id": "V-xE6Gu9n0Wo",
        "outputId": "8fff8f12-fe02-4dbe-fd24-3f6a230fef65"
      },
      "execution_count": 36,
      "outputs": [
        {
          "output_type": "stream",
          "name": "stdout",
          "text": [
            "Transcription saved to: /content/drive/MyDrive/Academic/Coursera Courses/Clone Me [Training LLM to be like Me]/speech1.txt\n"
          ]
        }
      ]
    },
    {
      "cell_type": "code",
      "source": [
        "# !pip install google-cloud-speech\n"
      ],
      "metadata": {
        "id": "v37dkGsJROsA"
      },
      "execution_count": 37,
      "outputs": []
    },
    {
      "cell_type": "code",
      "source": [
        "# import io\n",
        "# import os\n",
        "# from google.cloud import speech\n",
        "\n",
        "# # Set Google Cloud credentials (replace with your key JSON file)\n",
        "# os.environ[\"GOOGLE_APPLICATION_CREDENTIALS\"] = \"your_google_cloud_key.json\"\n",
        "\n",
        "# client = speech.SpeechClient()\n",
        "\n",
        "# # Read audio file\n",
        "# with io.open(\"your_audio.m4a\", \"rb\") as audio_file:\n",
        "#     content = audio_file.read()\n",
        "\n",
        "# # Configure request\n",
        "# audio = speech.RecognitionAudio(content=content)\n",
        "# config = speech.RecognitionConfig(\n",
        "#     encoding=speech.RecognitionConfig.AudioEncoding.LINEAR16,\n",
        "#     sample_rate_hertz=16000,\n",
        "#     language_code=\"en-US\",\n",
        "# )\n",
        "\n",
        "# # Send request\n",
        "# response = client.recognize(config=config, audio=audio)\n",
        "\n",
        "# # Print transcription\n",
        "# for result in response.results:\n",
        "#     print(\"Transcript:\", result.alternatives[0].transcript)\n"
      ],
      "metadata": {
        "id": "tAsVtX1yRPwK"
      },
      "execution_count": 38,
      "outputs": []
    }
  ]
}